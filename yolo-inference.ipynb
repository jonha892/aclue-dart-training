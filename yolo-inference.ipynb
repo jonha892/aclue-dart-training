{
 "cells": [
  {
   "cell_type": "code",
   "execution_count": null,
   "id": "489be70c-b164-498b-868b-f24f8acdc7dd",
   "metadata": {},
   "outputs": [],
   "source": [
    "from ultralytics import YOLO"
   ]
  },
  {
   "cell_type": "code",
   "execution_count": null,
   "id": "607e061b-256a-4219-9db3-e3525807d41a",
   "metadata": {},
   "outputs": [],
   "source": [
    "weights_path = 'runs/detect/train3/weights/best.pt'"
   ]
  },
  {
   "cell_type": "code",
   "execution_count": null,
   "id": "6ac3de79-2e00-4970-a364-66b9873cc63a",
   "metadata": {},
   "outputs": [],
   "source": [
    "model = YOLO(weights_path)"
   ]
  },
  {
   "cell_type": "code",
   "execution_count": null,
   "id": "364c7c02-975b-40aa-9ef2-48b63dbdee16",
   "metadata": {},
   "outputs": [],
   "source": [
    "from PIL import Image, ImageDraw"
   ]
  },
  {
   "cell_type": "code",
   "execution_count": null,
   "id": "048ea22d-c5d9-4eab-aac7-923607ba9c03",
   "metadata": {},
   "outputs": [],
   "source": [
    "i = Image.open('test/1.png')\n",
    "i = i.convert('RGB')\n",
    "i"
   ]
  },
  {
   "cell_type": "code",
   "execution_count": null,
   "id": "1607cac9-b0b9-4eab-9d36-c29ccd256ec1",
   "metadata": {},
   "outputs": [],
   "source": [
    "pi_img_width, pi_img_height = 1920, 1080\n",
    "\n",
    "crop_window = 450, 350, 1440, 1080\n",
    "orig_size = crop_window[2] - crop_window[0], crop_window[3] - crop_window[1]\n",
    "img = i.crop(crop_window)\n",
    "img"
   ]
  },
  {
   "cell_type": "code",
   "execution_count": null,
   "id": "0ac5db1e-812f-4f68-ba81-4cffca3e27e3",
   "metadata": {},
   "outputs": [],
   "source": [
    "from torchvision.transforms import v2\n",
    "\n",
    "transforms = v2.Compose([\n",
    "    v2.Resize((640, 640)),\n",
    "    v2.PILToTensor()\n",
    "])"
   ]
  },
  {
   "cell_type": "code",
   "execution_count": null,
   "id": "fb1b42ae-04fc-4e98-bd10-fde12c5e5d2f",
   "metadata": {},
   "outputs": [],
   "source": [
    "import torch\n",
    "\n",
    "t = transforms(img)\n",
    "\n",
    "t = t.to(torch.float32)\n",
    "t /= 255.0\n",
    "t = t.unsqueeze(0)\n",
    "t.shape"
   ]
  },
  {
   "cell_type": "code",
   "execution_count": null,
   "id": "b9605dd8-6054-4f88-a96a-3adba46617e0",
   "metadata": {},
   "outputs": [],
   "source": [
    "preds = model(t)"
   ]
  },
  {
   "cell_type": "code",
   "execution_count": null,
   "id": "3f26299a-1b90-4b96-b987-7a59b6888e7c",
   "metadata": {},
   "outputs": [],
   "source": [
    "len(preds)"
   ]
  },
  {
   "cell_type": "code",
   "execution_count": null,
   "id": "a9065ad8-2f74-4d56-ac98-abd660bf400c",
   "metadata": {},
   "outputs": [],
   "source": [
    "boxes = preds[0].boxes.numpy()\n",
    "boxes"
   ]
  },
  {
   "cell_type": "code",
   "execution_count": null,
   "id": "90471f58-f379-49d0-b337-6d8913b0babc",
   "metadata": {},
   "outputs": [],
   "source": [
    "i2 = img.copy()\n",
    "draw = ImageDraw.Draw(i2)\n",
    "\n",
    "def denorm(x0, y0, x1, y1, orig_size=orig_size, new_size=(640, 640)):\n",
    "    orig_w, orig_h = orig_size\n",
    "    new_w, new_h = new_size\n",
    "    \n",
    "    cw, ch = orig_w / new_w, orig_h / new_h\n",
    "    \n",
    "    x0 = x0 * new_w * cw\n",
    "    x1 = x1 * new_w * cw\n",
    "\n",
    "    y0 = y0 * new_h * ch\n",
    "    y1 = y1 * new_h * ch\n",
    "    \n",
    "    return x0, y0, x1, y1\n",
    "\n",
    "for i, box in enumerate(boxes.xyxyn):\n",
    "    cls = boxes.cls[i]\n",
    "    conf = boxes.conf[i]\n",
    "    \n",
    "    xmin, ymin, xmax, ymax = box\n",
    "    print(xmin, ymin, xmax, ymax)\n",
    "    xmin, ymin, xmax, ymax = denorm(xmin, ymin, xmax, ymax)\n",
    "\n",
    "    draw.rectangle(((xmin, ymin), (xmax, ymax)), outline='red', width=5)\n",
    "    draw.text((xmin+7, ymin+10), f'p={conf}', fill='red')\n",
    "    draw.text((xmin+7, ymin-10), f'c={cls}', fill='green')\n",
    "    \n",
    "i2"
   ]
  },
  {
   "cell_type": "code",
   "execution_count": null,
   "id": "0bcf951e-348a-467e-97d0-91d6251564e3",
   "metadata": {},
   "outputs": [],
   "source": [
    "i2.save('out.png')"
   ]
  },
  {
   "cell_type": "code",
   "execution_count": null,
   "id": "42ff2ea3-d2d7-45aa-b0d6-6873f7f0bea0",
   "metadata": {},
   "outputs": [],
   "source": []
  }
 ],
 "metadata": {
  "kernelspec": {
   "display_name": "Python 3 (ipykernel)",
   "language": "python",
   "name": "python3"
  },
  "language_info": {
   "codemirror_mode": {
    "name": "ipython",
    "version": 3
   },
   "file_extension": ".py",
   "mimetype": "text/x-python",
   "name": "python",
   "nbconvert_exporter": "python",
   "pygments_lexer": "ipython3",
   "version": "3.11.6"
  }
 },
 "nbformat": 4,
 "nbformat_minor": 5
}
